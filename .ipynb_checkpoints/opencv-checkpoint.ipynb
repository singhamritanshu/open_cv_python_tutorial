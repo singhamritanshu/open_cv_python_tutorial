{
 "cells": [
  {
   "cell_type": "markdown",
   "metadata": {},
   "source": [
    "# Open CV Tutorial "
   ]
  },
  {
   "cell_type": "markdown",
   "metadata": {},
   "source": [
    "# Reading, writing photos and videos."
   ]
  },
  {
   "cell_type": "code",
   "execution_count": null,
   "metadata": {},
   "outputs": [],
   "source": [
    "import cv2 as cv"
   ]
  },
  {
   "cell_type": "code",
   "execution_count": null,
   "metadata": {},
   "outputs": [],
   "source": [
    "# Reading & displaying images \n",
    "\n",
    "# We use imread function and pass the file path name & this function returns the image in form of matrix & we'll capture this image in the variable called img.\n",
    "img = cv.imread('test_images/kohli_1.jpg')\n",
    "# We can display the above image in seperate window by using imshow function and in this function we will pass 1) the window name taht is batsman 2) the img variable.\n",
    "cv.imshow(\"Best batsman\",img)\n",
    "cv.waitKey(0) # This will keep the image window alive until you press any key."
   ]
  },
  {
   "cell_type": "code",
   "execution_count": null,
   "metadata": {},
   "outputs": [],
   "source": [
    "# Reading and displaying videos\n",
    "\n",
    "# We use VideoCapture and this functions take two types of arguments: \n",
    "# 1) Integer cv.VideoCapture(0) you will use integer if you are using your computer's connected webcam(0 for internal webcam, 1 for another camera, etc.).\n",
    "# 2) You will pass the videos path just like you did for images.\n",
    "def video():\n",
    "    \n",
    "    capture = cv.VideoCapture('test_videos/1.mp4')\n",
    "\n",
    "# The difference between reading a video and an image is that we read the video by each frame and for that we use a while loop.\n",
    "\n",
    "    while True:\n",
    "        isTrue, frame = capture.read()\n",
    "    # capture.read() reads the video 1.mp4 frame by frame and stores it in the variable frame & isTrue is a boolean to verify if the frame was captured successfully\n",
    "    # To display this video we can actually display each frame by using imshow function.\n",
    "    \n",
    "        cv.imshow(\"Video\", frame)\n",
    "    # To make sure video dosent play for infinite time \n",
    "        if cv.waitKey(20) & 0xFF == ord('d'):\n",
    "            break\n",
    "        \n",
    "    capture.release()\n",
    "    cv.destroyAllWindows()"
   ]
  },
  {
   "cell_type": "markdown",
   "metadata": {},
   "source": [
    "# Resizing & Rescaling"
   ]
  },
  {
   "cell_type": "code",
   "execution_count": null,
   "metadata": {},
   "outputs": [],
   "source": [
    "# This will work for images, videos & live videos \n",
    "\n",
    "def rescale_frame(frame, scale_value=0.75):\n",
    "    height = int(frame.shape[0] * scale_value) # frame.shape[1] this contains the height of the frame \n",
    "    width = int(frame.shape[1] * scale_value)  # frame.shape[0] this contains the width of the frame\n",
    "    dimensions = (width,height)\n",
    "    \n",
    "    return cv.resize(frame, dimensions, interpolation = cv.INTER_AREA)\n",
    "\n",
    "\n",
    "#This will only work for live video\n",
    "def rescale_frame_vid(width, height):\n",
    "    capture.set(3,width)\n",
    "    capture.set(4,height)"
   ]
  },
  {
   "cell_type": "markdown",
   "metadata": {},
   "source": [
    "# Drawing shapes and Writting text "
   ]
  },
  {
   "cell_type": "code",
   "execution_count": null,
   "metadata": {},
   "outputs": [],
   "source": [
    "import cv2 as cv\n",
    "import numpy as np\n",
    "\n",
    "# Creating a blank image and displaying it.\n",
    "blank = np.zeros((500,500),dtype='uint8')\n",
    "cv.imshow(\"blank\", blank)\n",
    "\n",
    "cv.waitKey(0) "
   ]
  }
 ],
 "metadata": {
  "kernelspec": {
   "display_name": "Python 3.7.7 64-bit ('ml': conda)",
   "language": "python",
   "name": "python37764bitmlconda01ec231b375a456f90ec3a80c93831a3"
  },
  "language_info": {
   "codemirror_mode": {
    "name": "ipython",
    "version": 3
   },
   "file_extension": ".py",
   "mimetype": "text/x-python",
   "name": "python",
   "nbconvert_exporter": "python",
   "pygments_lexer": "ipython3",
   "version": "3.7.7"
  }
 },
 "nbformat": 4,
 "nbformat_minor": 4
}
